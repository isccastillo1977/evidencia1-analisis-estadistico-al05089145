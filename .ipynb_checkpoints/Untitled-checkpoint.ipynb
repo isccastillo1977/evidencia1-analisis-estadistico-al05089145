{
 "cells": [
  {
   "cell_type": "code",
   "execution_count": null,
   "id": "b661c5ca-2360-4971-b1cf-bbb296c3062d",
   "metadata": {},
   "outputs": [],
   "source": []
  }
 ],
 "metadata": {
  "kernelspec": {
   "display_name": "",
   "name": ""
  },
  "language_info": {
   "name": ""
  }
 },
 "nbformat": 4,
 "nbformat_minor": 5
}
